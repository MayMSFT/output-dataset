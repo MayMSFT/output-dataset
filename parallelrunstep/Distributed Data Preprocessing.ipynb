{
 "cells": [
  {
   "cell_type": "markdown",
   "metadata": {},
   "source": [
    "# Use Parallel Run step for distributed data preprocessing"
   ]
  },
  {
   "cell_type": "markdown",
   "metadata": {},
   "source": [
    "In this example we will use [ParallRun step](https://docs.microsoft.com/en-us/azure/machine-learning/how-to-use-parallel-run-step) in pipeline to process academic papers from [Covid-19 open research dataset](https://azure.microsoft.com/en-us/services/open-datasets/catalog/covid-19-open-research/) and write the output back to ADLS Gen 2 datastore. \n",
    "\n",
    "## Install private build with output dataset feature"
   ]
  },
  {
   "cell_type": "code",
   "execution_count": null,
   "metadata": {},
   "outputs": [],
   "source": [
    "!pip install --extra-index-url https://azuremlsdktestpypi.azureedge.net/Create-Dev-Index/15335858/ --pre \"azureml-sdk[automl]<0.1.1\""
   ]
  },
  {
   "cell_type": "markdown",
   "metadata": {},
   "source": [
    "## Set up your development environment\n",
    "\n",
    "All the setup for your development work can be accomplished in a Python notebook.  Setup includes:\n",
    "\n",
    "* Importing Python packages\n",
    "* Connecting to a workspace to enable communication between your local computer and remote resources\n",
    "* Creating an experiment to track all your runs\n",
    "* Creating a remote compute target to use for training\n",
    "\n",
    "### Import packages\n",
    "\n",
    "Import Python packages you need in this session. Also display the Azure Machine Learning SDK version."
   ]
  },
  {
   "cell_type": "code",
   "execution_count": null,
   "metadata": {},
   "outputs": [],
   "source": [
    "import os\n",
    "import azureml.core\n",
    "from azureml.core import Workspace, Dataset, Datastore, ComputeTarget, RunConfiguration, Experiment\n",
    "from azureml.core.runconfig import CondaDependencies\n",
    "from azureml.pipeline.steps import ParallelRunStep, ParallelRunConfig\n",
    "from azureml.pipeline.core import Pipeline\n",
    "# check core SDK version number\n",
    "print(\"Azure ML SDK Version: \", azureml.core.VERSION)"
   ]
  },
  {
   "cell_type": "markdown",
   "metadata": {},
   "source": [
    "### Connect to workspace\n",
    "\n",
    "Create a workspace object from the existing workspace. `Workspace.from_config()` reads the file **config.json** and loads the details into an object named `workspace`."
   ]
  },
  {
   "cell_type": "code",
   "execution_count": null,
   "metadata": {},
   "outputs": [],
   "source": [
    "# load workspace\n",
    "workspace = Workspace.from_config()\n",
    "print('Workspace name: ' + workspace.name, \n",
    "      'Azure region: ' + workspace.location, \n",
    "      'Subscription id: ' + workspace.subscription_id, \n",
    "      'Resource group: ' + workspace.resource_group, sep='\\n')"
   ]
  },
  {
   "cell_type": "markdown",
   "metadata": {},
   "source": [
    "## Access Data from COVID-19 Open Research Dataset\n",
    "\n",
    "We will now create 2 dataset from the open dataset blob container. Learn more about the file structure in open dataset storage [here](https://azure.microsoft.com/en-us/services/open-datasets/catalog/covid-19-open-research/)"
   ]
  },
  {
   "cell_type": "code",
   "execution_count": null,
   "metadata": {},
   "outputs": [],
   "source": [
    "covid_dstore = Datastore.register_azure_blob_container(workspace=workspace,\n",
    "                                                       datastore_name='covid_data',\n",
    "                                                       container_name='covid19temp',\n",
    "                                                       account_name='azureopendatastorage',\n",
    "                                                       sas_token='sv=2019-02-02&ss=bfqt&srt=sco&sp=rlcup&se=2025-04-14T00:21:16Z&st=2020-04-13T16:21:16Z&spr=https&sig=JgwLYbdGruHxRYTpr5dxfJqobKbhGap8WUtKFadcivQ%3D')"
   ]
  },
  {
   "cell_type": "code",
   "execution_count": null,
   "metadata": {},
   "outputs": [],
   "source": [
    "# The CORD-19 dataset comes with metadata.csv - a single file that records basic information on all the papers available in the CORD-19 dataset.\n",
    "covid_meta = Dataset.File.from_files(covid_dstore.path('metadata.csv'))"
   ]
  },
  {
   "cell_type": "code",
   "execution_count": null,
   "metadata": {},
   "outputs": [],
   "source": [
    "# Each .json file corresponds to an individual article in the dataset. This is where the title, authors, abstract and (where available) the full text data is stored.\n",
    "covid_ds = Dataset.File.from_files(covid_dstore.path('**/*.json'))"
   ]
  },
  {
   "cell_type": "code",
   "execution_count": null,
   "metadata": {},
   "outputs": [],
   "source": [
    "covid_meta = covid_meta.register(workspace, 'covid-19 metadata', create_new_version=True)\n",
    "covid_ds = covid_ds.register(workspace, 'covid-19 dataset', create_new_version=True)"
   ]
  },
  {
   "cell_type": "markdown",
   "metadata": {},
   "source": [
    "## Data Exploration\n",
    "\n",
    "We will do some data exploration to understand the academic papers referenced by covid_ds by mounting the covid_ds to local compute. [Learn more](https://docs.microsoft.com/en-us/azure/machine-learning/how-to-train-with-datasets#mount-vs-download)<br>\n",
    "**Note:** Dataset mounting only works with Linux based compute. If you are using AzureML compute instance, you can run the following code without any issue."
   ]
  },
  {
   "cell_type": "code",
   "execution_count": null,
   "metadata": {},
   "outputs": [],
   "source": [
    "# list the files referenced by covid_ds\n",
    "covid_ds.to_path()"
   ]
  },
  {
   "cell_type": "code",
   "execution_count": null,
   "metadata": {},
   "outputs": [],
   "source": [
    "# it should returns the total number research papers referenced by the dataset\n",
    "len(covid_ds.to_path())"
   ]
  },
  {
   "cell_type": "code",
   "execution_count": null,
   "metadata": {},
   "outputs": [],
   "source": [
    "# mount covid_ds to your local compute. This way you will be able to interact with the data like a local path \n",
    "import tempfile\n",
    "mounted_path = tempfile.mkdtemp()\n",
    "# mount covid_ds onto compute instance\n",
    "mount_context = covid_ds.mount(mounted_path)\n",
    "mount_context.start()"
   ]
  },
  {
   "cell_type": "code",
   "execution_count": null,
   "metadata": {},
   "outputs": [],
   "source": [
    "# load the one papaer from the dataset to view the paper content\n",
    "from utils import FileReader, get_breaks\n",
    "first_row = FileReader(mounted_path+'/biorxiv_medrxiv/pdf_json/0015023cc06b5362d332b3baf348d11567ca2fbb.json')\n",
    "print(first_row)"
   ]
  },
  {
   "cell_type": "markdown",
   "metadata": {},
   "source": [
    "## Run data preprocessing in parallel"
   ]
  },
  {
   "cell_type": "code",
   "execution_count": null,
   "metadata": {},
   "outputs": [],
   "source": [
    "# get the conpute target registered with your workspace\n",
    "compute_target = workspace.compute_targets['mlc']\n",
    "\n",
    "# define the script folder where you saved your data preparation script\n",
    "scripts_folder=\"script\"\n",
    "script_file=\"dataprep.py\""
   ]
  },
  {
   "cell_type": "markdown",
   "metadata": {},
   "source": [
    "Output of the parallelrun step is represented by a OutputFileDatasetConfig object. You can register a OutputFileDatasetConfig as a dataset and version the output data automatically."
   ]
  },
  {
   "cell_type": "code",
   "execution_count": null,
   "metadata": {},
   "outputs": [],
   "source": [
    "from azureml.data import OutputFileDatasetConfig\n",
    "\n",
    "# learn more about the output config\n",
    "help(OutputFileDatasetConfig)"
   ]
  },
  {
   "cell_type": "code",
   "execution_count": null,
   "metadata": {},
   "outputs": [],
   "source": [
    "# get adls gen 2 datastore already registered with the workspace\n",
    "datastore = workspace.datastores['may_adlsgen2']\n",
    "\n",
    "# write output to adlsgen2 datastore under folder `outputdataset/parallelrun` and registger it as a dataset after the experiment completes\n",
    "# make sure the service principal in your adlsgen2 datastore has blob data contributor role in order to write data back\n",
    "prepared_covid_ds = OutputFileDatasetConfig(destination=(datastore, 'outputdataset/parallelrun')).register_on_complete(name='prepared_covid_ds')"
   ]
  },
  {
   "cell_type": "code",
   "execution_count": null,
   "metadata": {},
   "outputs": [],
   "source": [
    "from azureml.core import Environment\n",
    "from azureml.core.runconfig import CondaDependencies, DEFAULT_CPU_IMAGE\n",
    "\n",
    "batch_conda_deps = CondaDependencies.create(pip_packages=['pandas','azureml-sdk<0.1.1'],\n",
    "                                            pip_indexurl='https://azuremlsdktestpypi.azureedge.net/Create-Dev-Index/15335858/')\n",
    "\n",
    "batch_env = Environment(name=\"batch_environment\")\n",
    "batch_env.python.conda_dependencies = batch_conda_deps\n",
    "batch_env.docker.enabled = True\n",
    "batch_env.docker.base_image = DEFAULT_CPU_IMAGE"
   ]
  },
  {
   "cell_type": "code",
   "execution_count": null,
   "metadata": {},
   "outputs": [],
   "source": [
    "parallel_run_config = ParallelRunConfig(\n",
    "    source_directory=scripts_folder,\n",
    "    entry_script=script_file,\n",
    "    mini_batch_size=\"100\",\n",
    "    error_threshold=3000,\n",
    "    output_action=\"append_row\",\n",
    "    environment=batch_env,\n",
    "    compute_target=compute_target,\n",
    "    node_count=2)"
   ]
  },
  {
   "cell_type": "code",
   "execution_count": null,
   "metadata": {},
   "outputs": [],
   "source": [
    "parallelrun_step = ParallelRunStep(\n",
    "    name=\"data-pre-process\",\n",
    "    parallel_run_config=parallel_run_config,\n",
    "    inputs=[ covid_ds.take(10000).as_named_input('covid_ds') ],\n",
    "    output=prepared_covid_ds,\n",
    "    allow_reuse=True\n",
    ")"
   ]
  },
  {
   "cell_type": "code",
   "execution_count": null,
   "metadata": {},
   "outputs": [],
   "source": [
    "from azureml.core import Experiment\n",
    "from azureml.pipeline.core import Pipeline\n",
    "\n",
    "pipeline = Pipeline(workspace=workspace, steps=[parallelrun_step])\n",
    "\n",
    "pipeline_run = Experiment(workspace, 'covid-19').submit(pipeline)"
   ]
  },
  {
   "cell_type": "code",
   "execution_count": null,
   "metadata": {},
   "outputs": [],
   "source": [
    "pipeline_run.wait_for_completion()"
   ]
  },
  {
   "cell_type": "markdown",
   "metadata": {},
   "source": [
    "# Explore output"
   ]
  },
  {
   "cell_type": "code",
   "execution_count": null,
   "metadata": {},
   "outputs": [],
   "source": [
    "import pandas as pd\n",
    "\n",
    "# the output dataset has been registered with the workspace. now you can just get the output dataset by name\n",
    "output_ds = workspace.datasets['prepared_covid_ds']\n",
    "download_path = output_ds.download('output')"
   ]
  },
  {
   "cell_type": "code",
   "execution_count": null,
   "metadata": {},
   "outputs": [],
   "source": [
    "# cleanup output format\n",
    "df = pd.read_csv(download_path[0], delimiter=\" \", header=None)\n",
    "df.columns = ['paper_id', 'doi', 'abstract', 'body_text', 'authors', 'title', 'journal', 'abstract_summary']\n",
    "df"
   ]
  }
 ],
 "metadata": {
  "kernel_info": {
   "name": "python3"
  },
  "kernelspec": {
   "display_name": "Python 3",
   "language": "python",
   "name": "python3"
  },
  "language_info": {
   "codemirror_mode": {
    "name": "ipython",
    "version": 3
   },
   "file_extension": ".py",
   "mimetype": "text/x-python",
   "name": "python",
   "nbconvert_exporter": "python",
   "pygments_lexer": "ipython3",
   "version": "3.7.7"
  },
  "nteract": {
   "version": "nteract-front-end@1.0.0"
  }
 },
 "nbformat": 4,
 "nbformat_minor": 4
}
